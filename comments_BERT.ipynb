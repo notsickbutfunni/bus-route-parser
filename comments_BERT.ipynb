{
 "cells": [
  {
   "cell_type": "code",
   "execution_count": 1,
   "id": "3f1d3459",
   "metadata": {},
   "outputs": [
    {
     "name": "stderr",
     "output_type": "stream",
     "text": [
      "c:\\Users\\kaira\\AppData\\Local\\Programs\\Python\\Python313\\Lib\\site-packages\\tqdm\\auto.py:21: TqdmWarning: IProgress not found. Please update jupyter and ipywidgets. See https://ipywidgets.readthedocs.io/en/stable/user_install.html\n",
      "  from .autonotebook import tqdm as notebook_tqdm\n"
     ]
    }
   ],
   "source": [
    "import pandas as pd\n",
    "import numpy as np\n",
    "from transformers import AutoTokenizer, AutoModelForSequenceClassification\n",
    "import torch\n",
    "import matplotlib.pyplot as plt"
   ]
  },
  {
   "cell_type": "code",
   "execution_count": 2,
   "id": "b375c8c9",
   "metadata": {},
   "outputs": [],
   "source": [
    "tokenizer = AutoTokenizer.from_pretrained(\"nlptown/bert-base-multilingual-uncased-sentiment\")\n",
    "model = AutoModelForSequenceClassification.from_pretrained(\"nlptown/bert-base-multilingual-uncased-sentiment\")"
   ]
  },
  {
   "cell_type": "code",
   "execution_count": 3,
   "id": "8e40a887",
   "metadata": {},
   "outputs": [],
   "source": [
    "def get_sentiment_score(comment):\n",
    "    inputs = tokenizer(comment, return_tensors='pt', truncation=True, padding=True)\n",
    "    with torch.no_grad():\n",
    "        output = model(**inputs)\n",
    "    probs = torch.nn.functional.softmax(output.logits, dim=1)\n",
    "    score = torch.argmax(probs) + 1\n",
    "    return int(score), float(probs.max())"
   ]
  },
  {
   "cell_type": "code",
   "execution_count": 4,
   "id": "89242864",
   "metadata": {},
   "outputs": [
    {
     "data": {
      "text/html": [
       "<div>\n",
       "<style scoped>\n",
       "    .dataframe tbody tr th:only-of-type {\n",
       "        vertical-align: middle;\n",
       "    }\n",
       "\n",
       "    .dataframe tbody tr th {\n",
       "        vertical-align: top;\n",
       "    }\n",
       "\n",
       "    .dataframe thead th {\n",
       "        text-align: right;\n",
       "    }\n",
       "</style>\n",
       "<table border=\"1\" class=\"dataframe\">\n",
       "  <thead>\n",
       "    <tr style=\"text-align: right;\">\n",
       "      <th></th>\n",
       "      <th>id</th>\n",
       "      <th>route_id</th>\n",
       "      <th>username</th>\n",
       "      <th>comment_text</th>\n",
       "      <th>date_time</th>\n",
       "    </tr>\n",
       "  </thead>\n",
       "  <tbody>\n",
       "    <tr>\n",
       "      <th>0</th>\n",
       "      <td>1</td>\n",
       "      <td>1</td>\n",
       "      <td>Сулу Нуржанова</td>\n",
       "      <td>Өте нашар мен бугін остановкада 1сағат тұрдым ...</td>\n",
       "      <td>2019-10-13</td>\n",
       "    </tr>\n",
       "    <tr>\n",
       "      <th>1</th>\n",
       "      <td>2</td>\n",
       "      <td>1</td>\n",
       "      <td>Leila</td>\n",
       "      <td>Добрый день! Водителе ну не как уж не вежливые...</td>\n",
       "      <td>2019-09-12</td>\n",
       "    </tr>\n",
       "    <tr>\n",
       "      <th>2</th>\n",
       "      <td>3</td>\n",
       "      <td>1</td>\n",
       "      <td>Abubakir Alibaev</td>\n",
       "      <td>Интервал ужас 30-40минут примите меры</td>\n",
       "      <td>2019-03-20</td>\n",
       "    </tr>\n",
       "    <tr>\n",
       "      <th>3</th>\n",
       "      <td>4</td>\n",
       "      <td>1</td>\n",
       "      <td>Вася Васильев</td>\n",
       "      <td>Кто запретил останавливаться на Рыскулова посл...</td>\n",
       "      <td>2019-01-14</td>\n",
       "    </tr>\n",
       "    <tr>\n",
       "      <th>4</th>\n",
       "      <td>5</td>\n",
       "      <td>5</td>\n",
       "      <td>Диана</td>\n",
       "      <td>Ужасный автобус. просто проехал остановку Сале...</td>\n",
       "      <td>2019-08-21</td>\n",
       "    </tr>\n",
       "    <tr>\n",
       "      <th>...</th>\n",
       "      <td>...</td>\n",
       "      <td>...</td>\n",
       "      <td>...</td>\n",
       "      <td>...</td>\n",
       "      <td>...</td>\n",
       "    </tr>\n",
       "    <tr>\n",
       "      <th>719</th>\n",
       "      <td>720</td>\n",
       "      <td>396</td>\n",
       "      <td>Аслан Анетов</td>\n",
       "      <td>Востоновите графиг пожалуйста сколько можно ча...</td>\n",
       "      <td>2018-12-24</td>\n",
       "    </tr>\n",
       "    <tr>\n",
       "      <th>720</th>\n",
       "      <td>721</td>\n",
       "      <td>396</td>\n",
       "      <td>Игорь</td>\n",
       "      <td>Когда уже восстановите нормальное движение по ...</td>\n",
       "      <td>2018-12-18</td>\n",
       "    </tr>\n",
       "    <tr>\n",
       "      <th>721</th>\n",
       "      <td>722</td>\n",
       "      <td>397</td>\n",
       "      <td>Александра Елеонская</td>\n",
       "      <td>NaN</td>\n",
       "      <td>2021-10-31</td>\n",
       "    </tr>\n",
       "    <tr>\n",
       "      <th>722</th>\n",
       "      <td>723</td>\n",
       "      <td>402</td>\n",
       "      <td>Михаил</td>\n",
       "      <td>Не соблюдается график движения, на отрезке мар...</td>\n",
       "      <td>2019-10-17</td>\n",
       "    </tr>\n",
       "    <tr>\n",
       "      <th>723</th>\n",
       "      <td>724</td>\n",
       "      <td>402</td>\n",
       "      <td>Kami.555</td>\n",
       "      <td>128 автобус всегда полный,утром их вообще мало...</td>\n",
       "      <td>2019-09-11</td>\n",
       "    </tr>\n",
       "  </tbody>\n",
       "</table>\n",
       "<p>724 rows × 5 columns</p>\n",
       "</div>"
      ],
      "text/plain": [
       "      id  route_id              username  \\\n",
       "0      1         1        Сулу Нуржанова   \n",
       "1      2         1                 Leila   \n",
       "2      3         1      Abubakir Alibaev   \n",
       "3      4         1         Вася Васильев   \n",
       "4      5         5                 Диана   \n",
       "..   ...       ...                   ...   \n",
       "719  720       396          Аслан Анетов   \n",
       "720  721       396                 Игорь   \n",
       "721  722       397  Александра Елеонская   \n",
       "722  723       402                Михаил   \n",
       "723  724       402              Kami.555   \n",
       "\n",
       "                                          comment_text   date_time  \n",
       "0    Өте нашар мен бугін остановкада 1сағат тұрдым ...  2019-10-13  \n",
       "1    Добрый день! Водителе ну не как уж не вежливые...  2019-09-12  \n",
       "2                Интервал ужас 30-40минут примите меры  2019-03-20  \n",
       "3    Кто запретил останавливаться на Рыскулова посл...  2019-01-14  \n",
       "4    Ужасный автобус. просто проехал остановку Сале...  2019-08-21  \n",
       "..                                                 ...         ...  \n",
       "719  Востоновите графиг пожалуйста сколько можно ча...  2018-12-24  \n",
       "720  Когда уже восстановите нормальное движение по ...  2018-12-18  \n",
       "721                                                NaN  2021-10-31  \n",
       "722  Не соблюдается график движения, на отрезке мар...  2019-10-17  \n",
       "723  128 автобус всегда полный,утром их вообще мало...  2019-09-11  \n",
       "\n",
       "[724 rows x 5 columns]"
      ]
     },
     "execution_count": 4,
     "metadata": {},
     "output_type": "execute_result"
    }
   ],
   "source": [
    "comments = pd.read_csv(r\"C:\\Users\\kaira\\comments.csv\")\n",
    "comments"
   ]
  },
  {
   "cell_type": "code",
   "execution_count": 5,
   "id": "826a6a78",
   "metadata": {},
   "outputs": [],
   "source": [
    "comments.drop(columns=['date_time','id', 'route_id'], inplace=True)"
   ]
  },
  {
   "cell_type": "code",
   "execution_count": 8,
   "id": "c5cdce70",
   "metadata": {},
   "outputs": [
    {
     "data": {
      "text/plain": [
       "username        0\n",
       "comment_text    0\n",
       "dtype: int64"
      ]
     },
     "execution_count": 8,
     "metadata": {},
     "output_type": "execute_result"
    }
   ],
   "source": [
    "comments.isnull().sum()"
   ]
  },
  {
   "cell_type": "code",
   "execution_count": 7,
   "id": "3646b267",
   "metadata": {},
   "outputs": [],
   "source": [
    "comments.dropna(inplace=True)"
   ]
  },
  {
   "cell_type": "code",
   "execution_count": 9,
   "id": "82f3b15a",
   "metadata": {},
   "outputs": [],
   "source": [
    "sentiments = []\n",
    "confidences = []\n",
    "\n",
    "\n",
    "for text in comments['comment_text']:\n",
    "    score, confidence = get_sentiment_score(text)\n",
    "    sentiments.append(score)\n",
    "    confidences.append(round(confidence, 3))\n",
    "\n",
    "comments[\"sentiment\"] = sentiments\n",
    "comments[\"confidence\"] = confidences"
   ]
  },
  {
   "cell_type": "code",
   "execution_count": 11,
   "id": "52edbf34",
   "metadata": {},
   "outputs": [],
   "source": [
    "data = comments.to_excel('comments.xlsx')"
   ]
  },
  {
   "cell_type": "code",
   "execution_count": 61,
   "id": "37061832",
   "metadata": {},
   "outputs": [
    {
     "data": {
      "text/html": [
       "<div>\n",
       "<style scoped>\n",
       "    .dataframe tbody tr th:only-of-type {\n",
       "        vertical-align: middle;\n",
       "    }\n",
       "\n",
       "    .dataframe tbody tr th {\n",
       "        vertical-align: top;\n",
       "    }\n",
       "\n",
       "    .dataframe thead th {\n",
       "        text-align: right;\n",
       "    }\n",
       "</style>\n",
       "<table border=\"1\" class=\"dataframe\">\n",
       "  <thead>\n",
       "    <tr style=\"text-align: right;\">\n",
       "      <th></th>\n",
       "      <th>username</th>\n",
       "      <th>comment_text</th>\n",
       "      <th>sentiment</th>\n",
       "      <th>confidence</th>\n",
       "    </tr>\n",
       "  </thead>\n",
       "  <tbody>\n",
       "    <tr>\n",
       "      <th>0</th>\n",
       "      <td>Сулу Нуржанова</td>\n",
       "      <td>Өте нашар мен бугін остановкада 1сағат тұрдым ...</td>\n",
       "      <td>1</td>\n",
       "      <td>0.744</td>\n",
       "    </tr>\n",
       "    <tr>\n",
       "      <th>1</th>\n",
       "      <td>Leila</td>\n",
       "      <td>Добрый день! Водителе ну не как уж не вежливые...</td>\n",
       "      <td>4</td>\n",
       "      <td>0.340</td>\n",
       "    </tr>\n",
       "    <tr>\n",
       "      <th>2</th>\n",
       "      <td>Abubakir Alibaev</td>\n",
       "      <td>Интервал ужас 30-40минут примите меры</td>\n",
       "      <td>1</td>\n",
       "      <td>0.468</td>\n",
       "    </tr>\n",
       "    <tr>\n",
       "      <th>3</th>\n",
       "      <td>Вася Васильев</td>\n",
       "      <td>Кто запретил останавливаться на Рыскулова посл...</td>\n",
       "      <td>1</td>\n",
       "      <td>0.736</td>\n",
       "    </tr>\n",
       "    <tr>\n",
       "      <th>4</th>\n",
       "      <td>Диана</td>\n",
       "      <td>Ужасный автобус. просто проехал остановку Сале...</td>\n",
       "      <td>1</td>\n",
       "      <td>0.426</td>\n",
       "    </tr>\n",
       "    <tr>\n",
       "      <th>...</th>\n",
       "      <td>...</td>\n",
       "      <td>...</td>\n",
       "      <td>...</td>\n",
       "      <td>...</td>\n",
       "    </tr>\n",
       "    <tr>\n",
       "      <th>718</th>\n",
       "      <td>Vladimir Vladimir</td>\n",
       "      <td>04,04,2019 Сегодня добежала до остановки Джанд...</td>\n",
       "      <td>1</td>\n",
       "      <td>0.726</td>\n",
       "    </tr>\n",
       "    <tr>\n",
       "      <th>719</th>\n",
       "      <td>Аслан Анетов</td>\n",
       "      <td>Востоновите графиг пожалуйста сколько можно ча...</td>\n",
       "      <td>1</td>\n",
       "      <td>0.247</td>\n",
       "    </tr>\n",
       "    <tr>\n",
       "      <th>720</th>\n",
       "      <td>Игорь</td>\n",
       "      <td>Когда уже восстановите нормальное движение по ...</td>\n",
       "      <td>3</td>\n",
       "      <td>0.301</td>\n",
       "    </tr>\n",
       "    <tr>\n",
       "      <th>722</th>\n",
       "      <td>Михаил</td>\n",
       "      <td>Не соблюдается график движения, на отрезке мар...</td>\n",
       "      <td>1</td>\n",
       "      <td>0.650</td>\n",
       "    </tr>\n",
       "    <tr>\n",
       "      <th>723</th>\n",
       "      <td>Kami.555</td>\n",
       "      <td>128 автобус всегда полный,утром их вообще мало...</td>\n",
       "      <td>2</td>\n",
       "      <td>0.360</td>\n",
       "    </tr>\n",
       "  </tbody>\n",
       "</table>\n",
       "<p>698 rows × 4 columns</p>\n",
       "</div>"
      ],
      "text/plain": [
       "              username                                       comment_text  \\\n",
       "0       Сулу Нуржанова  Өте нашар мен бугін остановкада 1сағат тұрдым ...   \n",
       "1                Leila  Добрый день! Водителе ну не как уж не вежливые...   \n",
       "2     Abubakir Alibaev              Интервал ужас 30-40минут примите меры   \n",
       "3        Вася Васильев  Кто запретил останавливаться на Рыскулова посл...   \n",
       "4                Диана  Ужасный автобус. просто проехал остановку Сале...   \n",
       "..                 ...                                                ...   \n",
       "718  Vladimir Vladimir  04,04,2019 Сегодня добежала до остановки Джанд...   \n",
       "719       Аслан Анетов  Востоновите графиг пожалуйста сколько можно ча...   \n",
       "720              Игорь  Когда уже восстановите нормальное движение по ...   \n",
       "722             Михаил  Не соблюдается график движения, на отрезке мар...   \n",
       "723           Kami.555  128 автобус всегда полный,утром их вообще мало...   \n",
       "\n",
       "     sentiment  confidence  \n",
       "0            1       0.744  \n",
       "1            4       0.340  \n",
       "2            1       0.468  \n",
       "3            1       0.736  \n",
       "4            1       0.426  \n",
       "..         ...         ...  \n",
       "718          1       0.726  \n",
       "719          1       0.247  \n",
       "720          3       0.301  \n",
       "722          1       0.650  \n",
       "723          2       0.360  \n",
       "\n",
       "[698 rows x 4 columns]"
      ]
     },
     "execution_count": 61,
     "metadata": {},
     "output_type": "execute_result"
    }
   ],
   "source": [
    "comments"
   ]
  },
  {
   "cell_type": "code",
   "execution_count": 12,
   "id": "4fda8877",
   "metadata": {},
   "outputs": [
    {
     "data": {
      "image/png": "[encoded data removed]",
      "text/plain": [
       "<Figure size 640x480 with 1 Axes>"
      ]
     },
     "metadata": {},
     "output_type": "display_data"
    }
   ],
   "source": [
    "comments['sentiment'].value_counts().sort_index().plot(kind='bar')\n",
    "plt.xlabel('Sentiment Score')\n",
    "plt.ylabel('Count')\n",
    "plt.title('from 1 to 5')\n",
    "plt.show()"
   ]
  }
 ],
 "metadata": {
  "kernelspec": {
   "display_name": "Python 3",
   "language": "python",
   "name": "python3"
  },
  "language_info": {
   "codemirror_mode": {
    "name": "ipython",
    "version": 3
   },
   "file_extension": ".py",
   "mimetype": "text/x-python",
   "name": "python",
   "nbconvert_exporter": "python",
   "pygments_lexer": "ipython3",
   "version": "3.13.5"
  }
 },
 "nbformat": 4,
 "nbformat_minor": 5
}
